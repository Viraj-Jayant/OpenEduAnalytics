{
  "nbformat": 4,
  "nbformat_minor": 2,
  "cells": [
    {
      "cell_type": "code",
      "execution_count": 51,
      "outputs": [
        {
          "output_type": "display_data",
          "data": {
            "application/vnd.livy.statement-meta+json": {
              "spark_pool": null,
              "session_id": "207",
              "statement_id": -1,
              "state": "finished",
              "livy_statement_state": "available",
              "queued_time": "2023-07-24T13:55:18.698498Z",
              "session_start_time": null,
              "execution_start_time": "2023-07-24T13:55:21.6957902Z",
              "execution_finish_time": "2023-07-24T13:55:21.6960541Z",
              "spark_jobs": null,
              "parent_msg_id": "8ff28618-1173-4ba0-bdf1-b7faace92220"
            },
            "text/plain": "StatementMeta(, 207, -1, Finished, Available)"
          },
          "metadata": {}
        },
        {
          "output_type": "stream",
          "name": "stdout",
          "text": "2023-07-24 13:55:20,367 - OEA - INFO - Now using workspace: dev\n2023-07-24 13:55:20,368 - OEA - INFO - OEA initialized.\n2023-07-24 13:55:21,020 - OEA - INFO - Now using workspace: dev\n2023-07-24 13:55:21,417 - EdFiClient - INFO - minChangeVersion=None and maxChangeVersion=None\n"
        }
      ],
      "metadata": {
        "jupyter": {
          "source_hidden": false,
          "outputs_hidden": false
        },
        "nteract": {
          "transient": {
            "deleting": false
          }
        }
      },
      "source": [
        "%run /edfi_py"
      ]
    },
    {
      "cell_type": "code",
      "execution_count": 52,
      "outputs": [
        {
          "output_type": "display_data",
          "data": {
            "application/vnd.livy.statement-meta+json": {
              "spark_pool": "spark3p3sm",
              "session_id": "207",
              "statement_id": 133,
              "state": "finished",
              "livy_statement_state": "available",
              "queued_time": "2023-07-24T13:55:18.9792753Z",
              "session_start_time": null,
              "execution_start_time": "2023-07-24T13:55:21.8447201Z",
              "execution_finish_time": "2023-07-24T13:55:22.0407658Z",
              "spark_jobs": null,
              "parent_msg_id": "e67381ef-a1f8-4047-beb2-c058d6d74d69"
            },
            "text/plain": "StatementMeta(spark3p3sm, 207, 133, Finished, Available)"
          },
          "metadata": {}
        }
      ],
      "metadata": {
        "jupyter": {
          "source_hidden": false,
          "outputs_hidden": false
        },
        "nteract": {
          "transient": {
            "deleting": false
          }
        }
      },
      "source": [
        "districtPath = districtId if districtId != None else \"All\"\r\n",
        "schoolYearPath = schoolYear if schoolYear != None else \"All\"\r\n",
        "\r\n",
        "# parameterized = True"
      ]
    },
    {
      "cell_type": "code",
      "execution_count": 53,
      "outputs": [
        {
          "output_type": "display_data",
          "data": {
            "application/vnd.livy.statement-meta+json": {
              "spark_pool": "spark3p3sm",
              "session_id": "207",
              "statement_id": 134,
              "state": "finished",
              "livy_statement_state": "available",
              "queued_time": "2023-07-24T13:55:19.5171067Z",
              "session_start_time": null,
              "execution_start_time": "2023-07-24T13:55:22.2255378Z",
              "execution_finish_time": "2023-07-24T13:55:22.4043401Z",
              "spark_jobs": null,
              "parent_msg_id": "cfb9066a-bf97-47d9-a61e-a26166f4aa55"
            },
            "text/plain": "StatementMeta(spark3p3sm, 207, 134, Finished, Available)"
          },
          "metadata": {}
        }
      ],
      "metadata": {
        "jupyter": {
          "source_hidden": false,
          "outputs_hidden": false
        },
        "nteract": {
          "transient": {
            "deleting": false
          }
        }
      },
      "source": [
        "if parameterized == True:\r\n",
        "    edfiEntitiesPath = f'stage1/Transactional/{moduleName}/{apiVersion}/DistrictId={districtPath}/SchoolYear={schoolYearPath}/ed-fi/parameterizedRunLogs/currentRun'\r\n",
        "    tpdmEntitiesPath = f'stage1/Transactional/{moduleName}/{apiVersion}/DistrictId={districtPath}/SchoolYear={schoolYearPath}/tpdm/parameterizedRunLogs/currentRun'\r\n",
        "\r\n",
        "    edfiEntities, _ = edfi.listSpecifiedEntities(edfiEntitiesPath)\r\n",
        "    tpdmEntities, _ = edfi.listSpecifiedEntities(tpdmEntitiesPath)\r\n",
        "    entitiesToFetch = edfiEntities + tpdmEntities\r\n",
        "else:\r\n",
        "    entitiesToFetch = 'All'"
      ]
    },
    {
      "cell_type": "code",
      "execution_count": 54,
      "outputs": [
        {
          "output_type": "display_data",
          "data": {
            "application/vnd.livy.statement-meta+json": {
              "spark_pool": "spark3p3sm",
              "session_id": "207",
              "statement_id": 135,
              "state": "finished",
              "livy_statement_state": "available",
              "queued_time": "2023-07-24T13:55:21.2182292Z",
              "session_start_time": null,
              "execution_start_time": "2023-07-24T13:55:22.555736Z",
              "execution_finish_time": "2023-07-24T13:55:23.7069057Z",
              "spark_jobs": null,
              "parent_msg_id": "7fb0d44b-9427-41ef-a27c-769b03ef4b98"
            },
            "text/plain": "StatementMeta(spark3p3sm, 207, 135, Finished, Available)"
          },
          "metadata": {}
        },
        {
          "output_type": "stream",
          "name": "stdout",
          "text": "2023-07-24 13:55:22,542 - EdFiClient - INFO - minChangeVersion=None and maxChangeVersion=None\n2023-07-24 13:55:22,803 - EdFiClient - INFO - initiating /ed-fi/absenceEventCategoryDescriptors\n2023-07-24 13:55:22,843 - EdFiClient - INFO - No new / updated items b/w the following versions 103955 and 103955\n2023-07-24 13:55:22,975 - root - INFO - completed /ed-fi/absenceEventCategoryDescriptors\n2023-07-24 13:55:23,077 - EdFiClient - INFO - initiating /ed-fi/academicHonorCategoryDescriptors\n2023-07-24 13:55:23,116 - EdFiClient - INFO - No new / updated items b/w the following versions 103955 and 103955\n2023-07-24 13:55:23,272 - root - INFO - completed /ed-fi/academicHonorCategoryDescriptors\n"
        }
      ],
      "metadata": {
        "jupyter": {
          "source_hidden": false,
          "outputs_hidden": false
        },
        "nteract": {
          "transient": {
            "deleting": false
          }
        }
      },
      "source": [
        "exception = None\r\n",
        "try:\r\n",
        "    if len(entitiesToFetch) != 0:\r\n",
        "        edfiClient = EdFiClient(workspace, \r\n",
        "                                kvName, \r\n",
        "                                moduleName, \r\n",
        "                                authUrl, \r\n",
        "                                dataManagementUrl, \r\n",
        "                                changeQueriesUrl, \r\n",
        "                                dependenciesUrl, \r\n",
        "                                apiVersion, \r\n",
        "                                batchLimit, \r\n",
        "                                minChangeVer, \r\n",
        "                                maxChangeVer, \r\n",
        "                                schoolYear, \r\n",
        "                                districtId)\r\n",
        "        edfiClient.landEntities(entitiesToFetch)\r\n",
        "    else:\r\n",
        "        logger.info(\"No entities to be fetched has been specified\")\r\n",
        "except Exception as e:\r\n",
        "    exception = e"
      ]
    },
    {
      "cell_type": "code",
      "execution_count": 55,
      "outputs": [
        {
          "output_type": "display_data",
          "data": {
            "application/vnd.livy.statement-meta+json": {
              "spark_pool": "spark3p3sm",
              "session_id": "207",
              "statement_id": 136,
              "state": "finished",
              "livy_statement_state": "available",
              "queued_time": "2023-07-24T13:55:28.2758266Z",
              "session_start_time": null,
              "execution_start_time": "2023-07-24T13:55:28.411731Z",
              "execution_finish_time": "2023-07-24T13:55:28.5883719Z",
              "spark_jobs": null,
              "parent_msg_id": "8b2d9f91-c7d7-45aa-896a-83118ece34ba"
            },
            "text/plain": "StatementMeta(spark3p3sm, 207, 136, Finished, Available)"
          },
          "metadata": {}
        }
      ],
      "metadata": {
        "jupyter": {
          "source_hidden": false,
          "outputs_hidden": false
        },
        "nteract": {
          "transient": {
            "deleting": false
          }
        }
      },
      "source": [
        "if exception != None:\r\n",
        "    raise exception"
      ]
    }
  ],
  "metadata": {
    "description": null,
    "save_output": true,
    "kernelspec": {
      "name": "synapse_pyspark",
      "display_name": "Synapse PySpark"
    },
    "language_info": {
      "name": "python"
    },
    "synapse_widget": {
      "version": "0.1",
      "state": {}
    }
  }
}