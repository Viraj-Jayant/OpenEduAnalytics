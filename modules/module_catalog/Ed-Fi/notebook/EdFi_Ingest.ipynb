{
  "nbformat": 4,
  "nbformat_minor": 2,
  "cells": [
    {
      "cell_type": "code",
      "execution_count": 1,
      "outputs": [
        {
          "output_type": "display_data",
          "data": {
            "application/vnd.livy.statement-meta+json": {
              "spark_pool": "spark3p3sm",
              "session_id": "208",
              "statement_id": 2,
              "state": "finished",
              "livy_statement_state": "available",
              "queued_time": "2023-07-24T13:59:42.9215234Z",
              "session_start_time": "2023-07-24T13:59:42.989235Z",
              "execution_start_time": "2023-07-24T14:01:15.9495836Z",
              "execution_finish_time": "2023-07-24T14:01:16.160023Z",
              "spark_jobs": null,
              "parent_msg_id": "f2ca84c6-caa1-47ab-aea5-c6c7b93ca091"
            },
            "text/plain": "StatementMeta(spark3p3sm, 208, 2, Finished, Available)"
          },
          "metadata": {}
        }
      ],
      "metadata": {},
      "source": [
        "# workspace = \"dev\"\r\n",
        "# apiVersion = \"5.2\"\r\n",
        "# moduleName = \"Ed-Fi10\"\r\n",
        "# schoolYear = None\r\n",
        "# districtId = None"
      ]
    },
    {
      "cell_type": "code",
      "execution_count": 2,
      "outputs": [
        {
          "output_type": "display_data",
          "data": {
            "application/vnd.livy.statement-meta+json": {
              "spark_pool": null,
              "session_id": "208",
              "statement_id": -1,
              "state": "finished",
              "livy_statement_state": "available",
              "queued_time": "2023-07-24T13:59:42.9222522Z",
              "session_start_time": null,
              "execution_start_time": "2023-07-24T14:01:27.6533678Z",
              "execution_finish_time": "2023-07-24T14:01:27.6535844Z",
              "spark_jobs": null,
              "parent_msg_id": "9ec9bf2a-8d35-4e86-a42f-49d28406fee2"
            },
            "text/plain": "StatementMeta(, 208, -1, Finished, Available)"
          },
          "metadata": {}
        },
        {
          "output_type": "stream",
          "name": "stdout",
          "text": "2023-07-24 14:01:26,102 - OEA - INFO - Now using workspace: dev\n2023-07-24 14:01:26,104 - OEA - INFO - OEA initialized.\n2023-07-24 14:01:26,988 - OEA - INFO - Now using workspace: dev\n2023-07-24 14:01:27,399 - EdFiClient - INFO - minChangeVersion=None and maxChangeVersion=None\n"
        }
      ],
      "metadata": {
        "jupyter": {
          "source_hidden": false,
          "outputs_hidden": false
        },
        "nteract": {
          "transient": {
            "deleting": false
          }
        }
      },
      "source": [
        "%run /edfi_py"
      ]
    },
    {
      "cell_type": "code",
      "execution_count": 3,
      "outputs": [
        {
          "output_type": "display_data",
          "data": {
            "application/vnd.livy.statement-meta+json": {
              "spark_pool": "spark3p3sm",
              "session_id": "208",
              "statement_id": 9,
              "state": "finished",
              "livy_statement_state": "available",
              "queued_time": "2023-07-24T13:59:44.4600394Z",
              "session_start_time": null,
              "execution_start_time": "2023-07-24T14:01:27.7976971Z",
              "execution_finish_time": "2023-07-24T14:01:27.9949396Z",
              "spark_jobs": null,
              "parent_msg_id": "ea96fb71-b6b3-4566-a433-48888f963207"
            },
            "text/plain": "StatementMeta(spark3p3sm, 208, 9, Finished, Available)"
          },
          "metadata": {}
        }
      ],
      "metadata": {
        "jupyter": {
          "source_hidden": false,
          "outputs_hidden": false
        },
        "nteract": {
          "transient": {
            "deleting": false
          }
        }
      },
      "source": [
        "districtPath = districtId if districtId != None else \"All\"\r\n",
        "schoolYearPath = schoolYear if schoolYear != None else \"All\"\r\n",
        "\r\n",
        "# parameterized = True"
      ]
    },
    {
      "cell_type": "code",
      "execution_count": 8,
      "outputs": [
        {
          "output_type": "display_data",
          "data": {
            "application/vnd.livy.statement-meta+json": {
              "spark_pool": "spark3p3sm",
              "session_id": "208",
              "statement_id": 14,
              "state": "finished",
              "livy_statement_state": "available",
              "queued_time": "2023-07-24T14:04:24.0310809Z",
              "session_start_time": null,
              "execution_start_time": "2023-07-24T14:04:24.2088932Z",
              "execution_finish_time": "2023-07-24T14:04:24.8418461Z",
              "spark_jobs": null,
              "parent_msg_id": "a0074d03-6751-4f99-a297-0e99f9c72457"
            },
            "text/plain": "StatementMeta(spark3p3sm, 208, 14, Finished, Available)"
          },
          "metadata": {}
        }
      ],
      "metadata": {
        "jupyter": {
          "source_hidden": false,
          "outputs_hidden": false
        },
        "nteract": {
          "transient": {
            "deleting": false
          }
        }
      },
      "source": [
        "if parameterized == True:\r\n",
        "    edfiEntitiesPath = f'stage1/Transactional/{moduleName}/{apiVersion}/DistrictId={districtPath}/SchoolYear={schoolYearPath}/ed-fi/parameterizedRunLogs/currentRun'\r\n",
        "    tpdmEntitiesPath = f'stage1/Transactional/{moduleName}/{apiVersion}/DistrictId={districtPath}/SchoolYear={schoolYearPath}/tpdm/parameterizedRunLogs/currentRun'\r\n",
        "\r\n",
        "    _, edfiEntities = edfi.listSpecifiedEntities(edfiEntitiesPath)\r\n",
        "    _, tpdmEntities = edfi.listSpecifiedEntities(tpdmEntitiesPath)\r\n",
        "else:\r\n",
        "    edfiEntities = \"All\"\r\n",
        "    tpdmEntities = \"All\"   "
      ]
    },
    {
      "cell_type": "code",
      "execution_count": 14,
      "outputs": [
        {
          "output_type": "display_data",
          "data": {
            "application/vnd.livy.statement-meta+json": {
              "spark_pool": "spark3p3sm",
              "session_id": "208",
              "statement_id": 20,
              "state": "finished",
              "livy_statement_state": "available",
              "queued_time": "2023-07-24T14:07:38.7957903Z",
              "session_start_time": null,
              "execution_start_time": "2023-07-24T14:07:38.959376Z",
              "execution_finish_time": "2023-07-24T14:07:39.1348583Z",
              "spark_jobs": null,
              "parent_msg_id": "56dc08de-719c-4615-9f3a-85f9149407b1"
            },
            "text/plain": "StatementMeta(spark3p3sm, 208, 20, Finished, Available)"
          },
          "metadata": {}
        },
        {
          "output_type": "stream",
          "name": "stdout",
          "text": "['absenceEventCategoryDescriptors', 'academicHonorCategoryDescriptors']\n"
        }
      ],
      "metadata": {
        "jupyter": {
          "source_hidden": false,
          "outputs_hidden": false
        },
        "nteract": {
          "transient": {
            "deleting": false
          }
        }
      },
      "source": [
        "print(edfiEntities + tpdmEntities)"
      ]
    },
    {
      "cell_type": "code",
      "execution_count": 12,
      "outputs": [
        {
          "output_type": "display_data",
          "data": {
            "application/vnd.livy.statement-meta+json": {
              "spark_pool": "spark3p3sm",
              "session_id": "208",
              "statement_id": 18,
              "state": "finished",
              "livy_statement_state": "available",
              "queued_time": "2023-07-24T14:05:14.0295814Z",
              "session_start_time": null,
              "execution_start_time": "2023-07-24T14:05:14.2330739Z",
              "execution_finish_time": "2023-07-24T14:05:14.4077496Z",
              "spark_jobs": null,
              "parent_msg_id": "73e9d6a2-3ad1-4ac3-a33a-f7e3e36f4c91"
            },
            "text/plain": "StatementMeta(spark3p3sm, 208, 18, Finished, Available)"
          },
          "metadata": {}
        }
      ],
      "metadata": {
        "jupyter": {
          "source_hidden": false,
          "outputs_hidden": false
        },
        "nteract": {
          "transient": {
            "deleting": false
          }
        }
      },
      "source": [
        "def ingest_edfi_dataset(tables_source, \r\n",
        "                        items = 'All'):\r\n",
        "    full_source_path = f\"stage1/Transactional/{tables_source}\"\r\n",
        "    if items == 'All':\r\n",
        "        items = oea.get_folders(full_source_path)          \r\n",
        "    options = {'header':False}\r\n",
        "    for item in items: \r\n",
        "        table_path = full_source_path +'/'+ item\r\n",
        "        try:\r\n",
        "            entity_path = f\"{tables_source}/{item}\"\r\n",
        "            print(entity_path)\r\n",
        "            if item == 'metadata.csv' or item == 'parameterizedRunLogs':\r\n",
        "                logger.info('ignore metadata processing, since this is not a table to be ingested')\r\n",
        "            else:\r\n",
        "                oea.ingest(entity_path, 'id', options)\r\n",
        "        except AnalysisException as e:\r\n",
        "            # This means the table may have not been properly refined due to errors with the primary key not aligning with columns expected in the lookup table.\r\n",
        "            pass"
      ]
    },
    {
      "cell_type": "code",
      "execution_count": 13,
      "outputs": [
        {
          "output_type": "display_data",
          "data": {
            "application/vnd.livy.statement-meta+json": {
              "spark_pool": "spark3p3sm",
              "session_id": "208",
              "statement_id": 19,
              "state": "finished",
              "livy_statement_state": "available",
              "queued_time": "2023-07-24T14:05:16.6479766Z",
              "session_start_time": null,
              "execution_start_time": "2023-07-24T14:05:17.0093298Z",
              "execution_finish_time": "2023-07-24T14:05:38.4284171Z",
              "spark_jobs": null,
              "parent_msg_id": "fa0640e0-ad34-4d19-8ac8-c2503b6fe896"
            },
            "text/plain": "StatementMeta(spark3p3sm, 208, 19, Finished, Available)"
          },
          "metadata": {}
        },
        {
          "output_type": "stream",
          "name": "stdout",
          "text": "Ed-Fi/5.2/DistrictId=All/SchoolYear=All/ed-fi/absenceEventCategoryDescriptors\n2023-07-24 14:05:17,121 - EdFiClient - INFO - Ingesting from: stage1/Transactional/Ed-Fi/5.2/DistrictId=All/SchoolYear=All/ed-fi/absenceEventCategoryDescriptors, batch type of: delta, source data format of: json\nsource_path is: abfss://oea@stoeahisddev.dfs.core.windows.net/dev/stage1/Transactional/Ed-Fi/5.2/DistrictId=All/SchoolYear=All/ed-fi/absenceEventCategoryDescriptors/delta_batch_data\n2023-07-24 14:05:34,664 - py4j.java_gateway - INFO - Callback Server Starting\n2023-07-24 14:05:34,664 - py4j.java_gateway - INFO - Socket listening on ('127.0.0.1', 35721)\n2023-07-24 14:05:36,523 - EdFiClient - INFO - Number of new inbound rows processed: 0\nEd-Fi/5.2/DistrictId=All/SchoolYear=All/ed-fi/academicHonorCategoryDescriptors\n2023-07-24 14:05:36,699 - EdFiClient - INFO - Ingesting from: stage1/Transactional/Ed-Fi/5.2/DistrictId=All/SchoolYear=All/ed-fi/academicHonorCategoryDescriptors, batch type of: delta, source data format of: json\n"
        }
      ],
      "metadata": {
        "jupyter": {
          "source_hidden": false,
          "outputs_hidden": false
        },
        "nteract": {
          "transient": {
            "deleting": false
          }
        }
      },
      "source": [
        "ingest_edfi_dataset(f'{moduleName}/{apiVersion}/DistrictId={districtPath}/SchoolYear={schoolYearPath}/ed-fi',\r\n",
        "                    edfiEntities)\r\n",
        "ingest_edfi_dataset(f'{moduleName}/{apiVersion}/DistrictId={districtPath}/SchoolYear={schoolYearPath}/tpdm',\r\n",
        "                    tpdmEntities)"
      ]
    }
  ],
  "metadata": {
    "description": null,
    "save_output": true,
    "kernelspec": {
      "name": "synapse_pyspark",
      "display_name": "Synapse PySpark"
    },
    "language_info": {
      "name": "python"
    },
    "synapse_widget": {
      "version": "0.1",
      "state": {}
    }
  }
}