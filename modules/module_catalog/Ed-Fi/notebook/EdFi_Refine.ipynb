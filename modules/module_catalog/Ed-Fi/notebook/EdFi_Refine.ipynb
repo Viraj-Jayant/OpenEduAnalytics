{
  "cells": [
    {
      "cell_type": "code",
      "source": [
        "# workspace = 'dev'\r\n",
        "# apiVersion = \"5.2\"\r\n",
        "# moduleName = \"Ed-Fi5\"\r\n",
        "# schoolYear = None\r\n",
        "# districtId = None"
      ],
      "outputs": [
        {
          "output_type": "display_data",
          "data": {
            "application/vnd.livy.statement-meta+json": {
              "spark_pool": "spark3p3sm",
              "session_id": "209",
              "statement_id": 21,
              "state": "finished",
              "livy_statement_state": "available",
              "queued_time": "2023-07-24T14:11:52.6510385Z",
              "session_start_time": null,
              "execution_start_time": "2023-07-24T14:11:52.795312Z",
              "execution_finish_time": "2023-07-24T14:11:52.9658167Z",
              "spark_jobs": null,
              "parent_msg_id": "fe09a5c9-575f-4015-b9c7-38c588a0285e"
            },
            "text/plain": "StatementMeta(spark3p3sm, 209, 21, Finished, Available)"
          },
          "metadata": {}
        }
      ],
      "execution_count": 10,
      "metadata": {
        "jupyter": {
          "source_hidden": false,
          "outputs_hidden": false
        },
        "nteract": {
          "transient": {
            "deleting": false
          }
        }
      }
    },
    {
      "cell_type": "code",
      "source": [
        "%run /edfi_py"
      ],
      "outputs": [
        {
          "output_type": "display_data",
          "data": {
            "application/vnd.livy.statement-meta+json": {
              "spark_pool": null,
              "session_id": "209",
              "statement_id": -1,
              "state": "finished",
              "livy_statement_state": "available",
              "queued_time": "2023-07-24T14:11:53.9010721Z",
              "session_start_time": null,
              "execution_start_time": "2023-07-24T14:11:57.0299475Z",
              "execution_finish_time": "2023-07-24T14:11:57.0302715Z",
              "spark_jobs": null,
              "parent_msg_id": "bb9a4925-504d-4977-a43a-ee65cbdf8cc2"
            },
            "text/plain": "StatementMeta(, 209, -1, Finished, Available)"
          },
          "metadata": {}
        },
        {
          "output_type": "stream",
          "name": "stdout",
          "text": [
            "2023-07-24 14:11:55,485 - OEA - INFO - Now using workspace: dev\n2023-07-24 14:11:55,486 - OEA - INFO - OEA initialized.\n2023-07-24 14:11:56,280 - OEA - INFO - Now using workspace: dev\n2023-07-24 14:11:56,762 - EdFiClient - INFO - minChangeVersion=None and maxChangeVersion=None\n"
          ]
        }
      ],
      "execution_count": 11,
      "metadata": {
        "jupyter": {
          "source_hidden": false,
          "outputs_hidden": false
        },
        "nteract": {
          "transient": {
            "deleting": false
          }
        }
      }
    },
    {
      "cell_type": "code",
      "source": [
        "districtPath = districtId if districtId != None else \"All\"\r\n",
        "schoolYearPath = schoolYear if schoolYear != None else \"All\"\r\n",
        "\r\n",
        "# parameterized = True"
      ],
      "outputs": [
        {
          "output_type": "display_data",
          "data": {
            "application/vnd.livy.statement-meta+json": {
              "spark_pool": "spark3p3sm",
              "session_id": "209",
              "statement_id": 28,
              "state": "finished",
              "livy_statement_state": "available",
              "queued_time": "2023-07-24T14:11:57.5660011Z",
              "session_start_time": null,
              "execution_start_time": "2023-07-24T14:11:57.738045Z",
              "execution_finish_time": "2023-07-24T14:11:57.900975Z",
              "spark_jobs": null,
              "parent_msg_id": "a66b6d1b-5089-4e35-9b0a-f6f9252d1e2c"
            },
            "text/plain": "StatementMeta(spark3p3sm, 209, 28, Finished, Available)"
          },
          "metadata": {}
        }
      ],
      "execution_count": 12,
      "metadata": {
        "jupyter": {
          "source_hidden": false,
          "outputs_hidden": false
        },
        "nteract": {
          "transient": {
            "deleting": false
          }
        }
      }
    },
    {
      "cell_type": "code",
      "source": [
        "if parameterized == True:\r\n",
        "    edfiEntitiesPath = f'stage1/Transactional/{moduleName}/{apiVersion}/DistrictId={districtPath}/SchoolYear={schoolYearPath}/ed-fi/parameterizedRunLogs/currentRun'\r\n",
        "    tpdmEntitiesPath = f'stage1/Transactional/{moduleName}/{apiVersion}/DistrictId={districtPath}/SchoolYear={schoolYearPath}/tpdm/parameterizedRunLogs/currentRun'\r\n",
        "\r\n",
        "    _, edfiEntities = edfi.listSpecifiedEntities(edfiEntitiesPath)\r\n",
        "    _, tpdmEntities = edfi.listSpecifiedEntities(tpdmEntitiesPath)\r\n",
        "else:\r\n",
        "    edfiEntities = \"All\"\r\n",
        "    tpdmEntities = \"All\"   "
      ],
      "outputs": [
        {
          "output_type": "display_data",
          "data": {
            "application/vnd.livy.statement-meta+json": {
              "spark_pool": "spark3p3sm",
              "session_id": "209",
              "statement_id": 29,
              "state": "finished",
              "livy_statement_state": "available",
              "queued_time": "2023-07-24T14:11:59.1756936Z",
              "session_start_time": null,
              "execution_start_time": "2023-07-24T14:11:59.3280605Z",
              "execution_finish_time": "2023-07-24T14:11:59.8846746Z",
              "spark_jobs": null,
              "parent_msg_id": "ac94a4b2-50aa-4227-852d-df60d851f7d9"
            },
            "text/plain": "StatementMeta(spark3p3sm, 209, 29, Finished, Available)"
          },
          "metadata": {}
        }
      ],
      "execution_count": 13,
      "metadata": {
        "jupyter": {
          "source_hidden": false,
          "outputs_hidden": false
        },
        "nteract": {
          "transient": {
            "deleting": false
          }
        }
      }
    },
    {
      "cell_type": "code",
      "source": [
        "def refine_edfi_dataset(tables_source,\r\n",
        "                        items = 'All'):\r\n",
        "    full_source_path = f\"stage2/Ingested/{tables_source}\"\r\n",
        "    if items == 'All':\r\n",
        "        items = oea.get_folders(full_source_path)          \r\n",
        "    for item in items: \r\n",
        "        table_path = f\"stage2/Ingested/{tables_source}/{item}\"\r\n",
        "        if item == 'metadata.csv' or item == 'parameterizedRunLogs':\r\n",
        "            logger.info('ignore metadata processing, since this is not a table to be ingested')\r\n",
        "        else:\r\n",
        "            try:\r\n",
        "                oea.refine(f'{tables_source}/{item}', metadata[item], 'id')\r\n",
        "            except AnalysisException as e:\r\n",
        "                # This means the table may have not been properly refined due to errors with the primary key not aligning with columns expected in the lookup table.\r\n",
        "                logger.info(e)\r\n",
        "                pass\r\n",
        "            \r\n",
        "            logger.info('Refined table: ' + item + ' from: ' + table_path)"
      ],
      "outputs": [
        {
          "output_type": "display_data",
          "data": {
            "application/vnd.livy.statement-meta+json": {
              "spark_pool": "spark3p3sm",
              "session_id": "209",
              "statement_id": 30,
              "state": "finished",
              "livy_statement_state": "available",
              "queued_time": "2023-07-24T14:12:01.0809112Z",
              "session_start_time": null,
              "execution_start_time": "2023-07-24T14:12:01.2389388Z",
              "execution_finish_time": "2023-07-24T14:12:01.4058272Z",
              "spark_jobs": null,
              "parent_msg_id": "6a0ba923-bf8d-45ee-af5d-11b1ce4bb212"
            },
            "text/plain": "StatementMeta(spark3p3sm, 209, 30, Finished, Available)"
          },
          "metadata": {}
        }
      ],
      "execution_count": 14,
      "metadata": {
        "jupyter": {
          "source_hidden": false,
          "outputs_hidden": false
        },
        "nteract": {
          "transient": {
            "deleting": false
          }
        }
      }
    },
    {
      "cell_type": "code",
      "source": [
        "metadata = oea.get_metadata_from_url(metadataUrl)\r\n",
        "\r\n",
        "refine_edfi_dataset(f'{moduleName}/{apiVersion}/DistrictId={districtPath}/SchoolYear={schoolYearPath}/ed-fi',\r\n",
        "                    edfiEntities)\r\n",
        "refine_edfi_dataset(f'{moduleName}/{apiVersion}/DistrictId={districtPath}/SchoolYear={schoolYearPath}/tpdm',\r\n",
        "                    tpdmEntities)"
      ],
      "outputs": [
        {
          "output_type": "display_data",
          "data": {
            "application/vnd.livy.statement-meta+json": {
              "spark_pool": "spark3p3sm",
              "session_id": "209",
              "statement_id": 31,
              "state": "finished",
              "livy_statement_state": "available",
              "queued_time": "2023-07-24T14:12:03.4054553Z",
              "session_start_time": null,
              "execution_start_time": "2023-07-24T14:12:03.591158Z",
              "execution_finish_time": "2023-07-24T14:13:10.3231208Z",
              "spark_jobs": null,
              "parent_msg_id": "40ffc76c-0cb8-4362-baaa-442bf8c2bc5e"
            },
            "text/plain": "StatementMeta(spark3p3sm, 209, 31, Finished, Available)"
          },
          "metadata": {}
        },
        {
          "output_type": "stream",
          "name": "stdout",
          "text": [
            "2023-07-24 14:12:58,538 - EdFiClient - INFO - No updated rows in stage2/Ingested/Ed-Fi/5.2/DistrictId=All/SchoolYear=All/ed-fi/absenceEventCategoryDescriptors to process.\n2023-07-24 14:12:59,489 - EdFiClient - INFO - Refined table: absenceEventCategoryDescriptors from: stage2/Ingested/Ed-Fi/5.2/DistrictId=All/SchoolYear=All/ed-fi/absenceEventCategoryDescriptors\n2023-07-24 14:13:09,607 - EdFiClient - INFO - No updated rows in stage2/Ingested/Ed-Fi/5.2/DistrictId=All/SchoolYear=All/ed-fi/academicHonorCategoryDescriptors to process.\n2023-07-24 14:13:10,255 - EdFiClient - INFO - Refined table: academicHonorCategoryDescriptors from: stage2/Ingested/Ed-Fi/5.2/DistrictId=All/SchoolYear=All/ed-fi/academicHonorCategoryDescriptors\n"
          ]
        }
      ],
      "execution_count": 15,
      "metadata": {
        "jupyter": {
          "source_hidden": false,
          "outputs_hidden": false
        },
        "nteract": {
          "transient": {
            "deleting": false
          }
        }
      }
    }
  ],
  "metadata": {
    "kernelspec": {
      "name": "synapse_pyspark",
      "display_name": "Synapse PySpark"
    },
    "language_info": {
      "name": "python"
    },
    "description": null,
    "save_output": true,
    "synapse_widget": {
      "version": "0.1",
      "state": {}
    }
  },
  "nbformat": 4,
  "nbformat_minor": 2
}